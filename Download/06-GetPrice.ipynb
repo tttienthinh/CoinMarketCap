{
 "cells": [
  {
   "cell_type": "code",
   "execution_count": 3,
   "metadata": {},
   "outputs": [],
   "source": [
    "import webbrowser, requests"
   ]
  },
  {
   "cell_type": "code",
   "execution_count": 6,
   "metadata": {},
   "outputs": [],
   "source": [
    "tracking = [\n",
    "    [\"BTC\", 32_000, 1],\n",
    "    [\"ETH\", 2_000, 1027],\n",
    "    [\"Polkadot\", 15, 6636],\n",
    "    [\"Iota\", 0.75, 1720],\n",
    "    [\"Ultra\", 0.4, 4189],\n",
    "    [\"FTX\", 30, 4195],\n",
    "    [\"Cake\", 15, 7186],\n",
    "    [\"HPB\",  0.08, 2345],\n",
    "]"
   ]
  },
  {
   "cell_type": "code",
   "execution_count": 7,
   "metadata": {},
   "outputs": [
    {
     "name": "stdout",
     "output_type": "stream",
     "text": [
      "BTC\n",
      "ETH\n",
      "Polkadot\n",
      "Iota\n",
      "Ultra\n",
      "FTX\n",
      "Cake\n",
      "HPB\n"
     ]
    }
   ],
   "source": [
    "for name, target_price, token_id in tracking:\n",
    "    r = requests.get(\n",
    "        f\"https://api.coinmarketcap.com/data-api/v3/cryptocurrency/detail?id={token_id}\"\n",
    "    )\n",
    "    js = r.json()\n",
    "    print(name)\n",
    "    price = js[\"data\"][\"statistics\"][\"price\"]\n",
    "    if target_price > price:\n",
    "        webbrowser.open_new(\n",
    "            f\"https://api.coinmarketcap.com/data-api/v3/cryptocurrency/detail?id={token_id}\"\n",
    "        )"
   ]
  },
  {
   "cell_type": "code",
   "execution_count": null,
   "metadata": {},
   "outputs": [],
   "source": []
  }
 ],
 "metadata": {
  "kernelspec": {
   "display_name": "Scientist",
   "language": "python",
   "name": "scientist"
  },
  "language_info": {
   "codemirror_mode": {
    "name": "ipython",
    "version": 3
   },
   "file_extension": ".py",
   "mimetype": "text/x-python",
   "name": "python",
   "nbconvert_exporter": "python",
   "pygments_lexer": "ipython3",
   "version": "3.8.10"
  },
  "toc": {
   "base_numbering": 1,
   "nav_menu": {},
   "number_sections": true,
   "sideBar": true,
   "skip_h1_title": true,
   "title_cell": "Table of Contents",
   "title_sidebar": "Contents",
   "toc_cell": false,
   "toc_position": {},
   "toc_section_display": true,
   "toc_window_display": false
  },
  "varInspector": {
   "cols": {
    "lenName": 16,
    "lenType": 16,
    "lenVar": 40
   },
   "kernels_config": {
    "python": {
     "delete_cmd_postfix": "",
     "delete_cmd_prefix": "del ",
     "library": "var_list.py",
     "varRefreshCmd": "print(var_dic_list())"
    },
    "r": {
     "delete_cmd_postfix": ") ",
     "delete_cmd_prefix": "rm(",
     "library": "var_list.r",
     "varRefreshCmd": "cat(var_dic_list()) "
    }
   },
   "types_to_exclude": [
    "module",
    "function",
    "builtin_function_or_method",
    "instance",
    "_Feature"
   ],
   "window_display": false
  }
 },
 "nbformat": 4,
 "nbformat_minor": 4
}
