{
 "cells": [
  {
   "cell_type": "code",
   "execution_count": 6,
   "metadata": {},
   "outputs": [],
   "source": [
    "import requests, json, time\n",
    "import pandas as pd\n",
    "import matplotlib.pyplot as plt"
   ]
  },
  {
   "cell_type": "code",
   "execution_count": 14,
   "metadata": {},
   "outputs": [
    {
     "data": {
      "text/html": [
       "<div>\n",
       "<style scoped>\n",
       "    .dataframe tbody tr th:only-of-type {\n",
       "        vertical-align: middle;\n",
       "    }\n",
       "\n",
       "    .dataframe tbody tr th {\n",
       "        vertical-align: top;\n",
       "    }\n",
       "\n",
       "    .dataframe thead th {\n",
       "        text-align: right;\n",
       "    }\n",
       "</style>\n",
       "<table border=\"1\" class=\"dataframe\">\n",
       "  <thead>\n",
       "    <tr style=\"text-align: right;\">\n",
       "      <th></th>\n",
       "      <th>Timestamp</th>\n",
       "      <th>Price</th>\n",
       "      <th>Volume</th>\n",
       "      <th>FullyDilluted</th>\n",
       "      <th>CirculatingSupply</th>\n",
       "      <th>Date</th>\n",
       "    </tr>\n",
       "  </thead>\n",
       "  <tbody>\n",
       "    <tr>\n",
       "      <th>0</th>\n",
       "      <td>1516233600</td>\n",
       "      <td>0.195550</td>\n",
       "      <td>8.838400e+06</td>\n",
       "      <td>0.000000e+00</td>\n",
       "      <td>0.000000</td>\n",
       "      <td>2018-01-18 00:00:00</td>\n",
       "    </tr>\n",
       "    <tr>\n",
       "      <th>1</th>\n",
       "      <td>1516320000</td>\n",
       "      <td>0.180431</td>\n",
       "      <td>6.949030e+06</td>\n",
       "      <td>0.000000e+00</td>\n",
       "      <td>0.000000</td>\n",
       "      <td>2018-01-19 00:00:00</td>\n",
       "    </tr>\n",
       "    <tr>\n",
       "      <th>2</th>\n",
       "      <td>1516406400</td>\n",
       "      <td>0.189888</td>\n",
       "      <td>8.285020e+06</td>\n",
       "      <td>0.000000e+00</td>\n",
       "      <td>0.000000</td>\n",
       "      <td>2018-01-20 00:00:00</td>\n",
       "    </tr>\n",
       "    <tr>\n",
       "      <th>3</th>\n",
       "      <td>1516492800</td>\n",
       "      <td>0.165060</td>\n",
       "      <td>5.526050e+06</td>\n",
       "      <td>0.000000e+00</td>\n",
       "      <td>0.000000</td>\n",
       "      <td>2018-01-21 00:00:00</td>\n",
       "    </tr>\n",
       "    <tr>\n",
       "      <th>4</th>\n",
       "      <td>1516579200</td>\n",
       "      <td>0.153641</td>\n",
       "      <td>6.522240e+06</td>\n",
       "      <td>0.000000e+00</td>\n",
       "      <td>0.000000</td>\n",
       "      <td>2018-01-22 00:00:00</td>\n",
       "    </tr>\n",
       "    <tr>\n",
       "      <th>...</th>\n",
       "      <td>...</td>\n",
       "      <td>...</td>\n",
       "      <td>...</td>\n",
       "      <td>...</td>\n",
       "      <td>...</td>\n",
       "      <td>...</td>\n",
       "    </tr>\n",
       "    <tr>\n",
       "      <th>1288</th>\n",
       "      <td>1627516800</td>\n",
       "      <td>6.033056</td>\n",
       "      <td>3.252853e+08</td>\n",
       "      <td>6.033056e+09</td>\n",
       "      <td>150794.650043</td>\n",
       "      <td>2021-07-29 00:00:00</td>\n",
       "    </tr>\n",
       "    <tr>\n",
       "      <th>1289</th>\n",
       "      <td>1627603200</td>\n",
       "      <td>5.989395</td>\n",
       "      <td>2.931551e+08</td>\n",
       "      <td>5.989395e+09</td>\n",
       "      <td>141809.327991</td>\n",
       "      <td>2021-07-30 00:00:00</td>\n",
       "    </tr>\n",
       "    <tr>\n",
       "      <th>1290</th>\n",
       "      <td>1627689600</td>\n",
       "      <td>6.106616</td>\n",
       "      <td>3.232471e+08</td>\n",
       "      <td>6.106616e+09</td>\n",
       "      <td>146701.276914</td>\n",
       "      <td>2021-07-31 00:00:00</td>\n",
       "    </tr>\n",
       "    <tr>\n",
       "      <th>1291</th>\n",
       "      <td>1627831284</td>\n",
       "      <td>6.176240</td>\n",
       "      <td>3.131510e+08</td>\n",
       "      <td>6.176240e+09</td>\n",
       "      <td>148935.250573</td>\n",
       "      <td>2021-08-01 15:21:24</td>\n",
       "    </tr>\n",
       "    <tr>\n",
       "      <th>1292</th>\n",
       "      <td>1627831493</td>\n",
       "      <td>6.180497</td>\n",
       "      <td>3.135463e+08</td>\n",
       "      <td>6.180497e+09</td>\n",
       "      <td>148970.341874</td>\n",
       "      <td>2021-08-01 15:24:53</td>\n",
       "    </tr>\n",
       "  </tbody>\n",
       "</table>\n",
       "<p>1293 rows × 6 columns</p>\n",
       "</div>"
      ],
      "text/plain": [
       "       Timestamp     Price        Volume  FullyDilluted  CirculatingSupply  \\\n",
       "0     1516233600  0.195550  8.838400e+06   0.000000e+00           0.000000   \n",
       "1     1516320000  0.180431  6.949030e+06   0.000000e+00           0.000000   \n",
       "2     1516406400  0.189888  8.285020e+06   0.000000e+00           0.000000   \n",
       "3     1516492800  0.165060  5.526050e+06   0.000000e+00           0.000000   \n",
       "4     1516579200  0.153641  6.522240e+06   0.000000e+00           0.000000   \n",
       "...          ...       ...           ...            ...                ...   \n",
       "1288  1627516800  6.033056  3.252853e+08   6.033056e+09      150794.650043   \n",
       "1289  1627603200  5.989395  2.931551e+08   5.989395e+09      141809.327991   \n",
       "1290  1627689600  6.106616  3.232471e+08   6.106616e+09      146701.276914   \n",
       "1291  1627831284  6.176240  3.131510e+08   6.176240e+09      148935.250573   \n",
       "1292  1627831493  6.180497  3.135463e+08   6.180497e+09      148970.341874   \n",
       "\n",
       "                    Date  \n",
       "0    2018-01-18 00:00:00  \n",
       "1    2018-01-19 00:00:00  \n",
       "2    2018-01-20 00:00:00  \n",
       "3    2018-01-21 00:00:00  \n",
       "4    2018-01-22 00:00:00  \n",
       "...                  ...  \n",
       "1288 2021-07-29 00:00:00  \n",
       "1289 2021-07-30 00:00:00  \n",
       "1290 2021-07-31 00:00:00  \n",
       "1291 2021-08-01 15:21:24  \n",
       "1292 2021-08-01 15:24:53  \n",
       "\n",
       "[1293 rows x 6 columns]"
      ]
     },
     "execution_count": 14,
     "metadata": {},
     "output_type": "execute_result"
    }
   ],
   "source": [
    "df = pd.read_csv(f\"csv/{2416}.csv\")\n",
    "df[\"Date\"] = pd.to_datetime(df.Timestamp, unit='s')\n",
    "df"
   ]
  },
  {
   "cell_type": "code",
   "execution_count": 15,
   "metadata": {},
   "outputs": [
    {
     "data": {
      "text/plain": [
       "[<matplotlib.lines.Line2D at 0x7f19848bdb20>]"
      ]
     },
     "execution_count": 15,
     "metadata": {},
     "output_type": "execute_result"
    },
    {
     "data": {
      "image/png": "[encoded data removed]",
      "text/plain": [
       "<Figure size 432x288 with 1 Axes>"
      ]
     },
     "metadata": {
      "needs_background": "light"
     },
     "output_type": "display_data"
    }
   ],
   "source": [
    "plt.plot(df.Date, df.CirculatingSupply)"
   ]
  },
  {
   "cell_type": "code",
   "execution_count": null,
   "metadata": {},
   "outputs": [],
   "source": []
  }
 ],
 "metadata": {
  "kernelspec": {
   "display_name": "Scientist",
   "language": "python",
   "name": "scientist"
  },
  "language_info": {
   "codemirror_mode": {
    "name": "ipython",
    "version": 3
   },
   "file_extension": ".py",
   "mimetype": "text/x-python",
   "name": "python",
   "nbconvert_exporter": "python",
   "pygments_lexer": "ipython3",
   "version": "3.8.10"
  },
  "toc": {
   "base_numbering": 1,
   "nav_menu": {},
   "number_sections": true,
   "sideBar": true,
   "skip_h1_title": true,
   "title_cell": "Table of Contents",
   "title_sidebar": "Contents",
   "toc_cell": false,
   "toc_position": {},
   "toc_section_display": true,
   "toc_window_display": false
  },
  "varInspector": {
   "cols": {
    "lenName": 16,
    "lenType": 16,
    "lenVar": 40
   },
   "kernels_config": {
    "python": {
     "delete_cmd_postfix": "",
     "delete_cmd_prefix": "del ",
     "library": "var_list.py",
     "varRefreshCmd": "print(var_dic_list())"
    },
    "r": {
     "delete_cmd_postfix": ") ",
     "delete_cmd_prefix": "rm(",
     "library": "var_list.r",
     "varRefreshCmd": "cat(var_dic_list()) "
    }
   },
   "types_to_exclude": [
    "module",
    "function",
    "builtin_function_or_method",
    "instance",
    "_Feature"
   ],
   "window_display": false
  }
 },
 "nbformat": 4,
 "nbformat_minor": 4
}
